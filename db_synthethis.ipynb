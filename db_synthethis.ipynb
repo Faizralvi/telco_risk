{
 "cells": [
  {
   "cell_type": "code",
   "execution_count": 1,
   "id": "e1e0d30c",
   "metadata": {},
   "outputs": [],
   "source": [
    "import pandas as pd"
   ]
  },
  {
   "cell_type": "code",
   "execution_count": 2,
   "id": "0cd1766e",
   "metadata": {},
   "outputs": [],
   "source": [
    "df = pd.read_csv(\"/Users/faizralvi/Documents/ROBD_db/CDR-Call-Details.csv\")"
   ]
  },
  {
   "cell_type": "code",
   "execution_count": 3,
   "id": "7103ac71",
   "metadata": {},
   "outputs": [],
   "source": [
    "from faker import Faker\n",
    "import pandas as pd\n",
    "import numpy as np\n",
    "\n",
    "fake = Faker()\n",
    "\n",
    "# Membuat DataFrame dari phone number unik\n",
    "df_cust = pd.DataFrame(df['Phone Number'].unique(), columns=['Phone Number'])\n",
    "\n",
    "# Daftar kota yang dibatasi\n",
    "city_list = ['Jakarta', 'Bandung', 'Surabaya', 'Yogyakarta', 'Medan', 'Semarang', 'Denpasar', 'Makassar']\n",
    "\n",
    "# Men-generate data acak\n",
    "df_cust['Name'] = [fake.name() for _ in range(len(df_cust))]\n",
    "df_cust['Age'] = np.random.randint(18, 66, size=len(df_cust))\n",
    "df_cust['Gender'] = np.random.choice(['Male', 'Female'], size=len(df_cust))\n",
    "df_cust['Occupation'] = [fake.job() for _ in range(len(df_cust))]\n",
    "df_cust['City'] = np.random.choice(city_list, size=len(df_cust))\n",
    "df_cust['Marital Status'] = np.random.choice(['Single', 'Married', 'Divorced'], size=len(df_cust))\n"
   ]
  },
  {
   "cell_type": "code",
   "execution_count": 4,
   "id": "dbda56ff",
   "metadata": {},
   "outputs": [],
   "source": [
    "df_cust.to_csv('df_cust.csv', index=False)"
   ]
  },
  {
   "cell_type": "code",
   "execution_count": null,
   "id": "3638eae0",
   "metadata": {},
   "outputs": [],
   "source": []
  }
 ],
 "metadata": {
  "kernelspec": {
   "display_name": "Python 3",
   "language": "python",
   "name": "python3"
  },
  "language_info": {
   "codemirror_mode": {
    "name": "ipython",
    "version": 3
   },
   "file_extension": ".py",
   "mimetype": "text/x-python",
   "name": "python",
   "nbconvert_exporter": "python",
   "pygments_lexer": "ipython3",
   "version": "3.9.6"
  }
 },
 "nbformat": 4,
 "nbformat_minor": 5
}
